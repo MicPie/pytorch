{
 "cells": [
  {
   "cell_type": "markdown",
   "metadata": {},
   "source": [
    "# Attention in detail"
   ]
  },
  {
   "cell_type": "markdown",
   "metadata": {},
   "source": [
    "This notebook tries to visualize and explain the attention concept used in deep learning and is based on:<br>\n",
    "1. [Dissecting BERT](https://medium.com/dissecting-bert/dissecting-bert-part-1-d3c3d495cdb3) (initially triggered looking into attention)\n",
    "* [Harvard NLP annotated transformer](http://nlp.seas.harvard.edu/2018/04/03/attention.html#attention)\n",
    "* [Udacity DL attention notebook](https://github.com/udacity/deep-learning-v2-pytorch/blob/master/attention/)\n",
    "* [PyTorch einsum for attention](https://rockt.github.io/2018/04/30/einsum) (looking into attention is the perfect oppertunity to get comfortable with einsum)"
   ]
  },
  {
   "cell_type": "code",
   "execution_count": 3,
   "metadata": {},
   "outputs": [],
   "source": [
    "# basic\n",
    "import math\n",
    "\n",
    "# PyTorch\n",
    "import torch\n",
    "import torch.nn.functional as F\n",
    "\n",
    "# visualisation\n",
    "import matplotlib.pyplot as plt\n",
    "import seaborn as sns"
   ]
  },
  {
   "cell_type": "code",
   "execution_count": 1,
   "metadata": {},
   "outputs": [],
   "source": [
    "# random tensors function from https://rockt.github.io/2018/04/30/einsum\n",
    "def random_tensors(shape, num=1, requires_grad=False):\n",
    "    tensors = [torch.randn(shape, requires_grad=requires_grad) for i in range(0,num)]\n",
    "    return tensors[0] if num == 1 else tensors"
   ]
  },
  {
   "cell_type": "markdown",
   "metadata": {},
   "source": [
    "## Attention function"
   ]
  },
  {
   "cell_type": "code",
   "execution_count": 6,
   "metadata": {},
   "outputs": [],
   "source": [
    "# dimensions = batch size x sequence length x embedding dimension\n",
    "Y = random_tensors([3, 5, 7])"
   ]
  },
  {
   "cell_type": "code",
   "execution_count": 51,
   "metadata": {},
   "outputs": [],
   "source": [
    "# attention function based on http://nlp.seas.harvard.edu/2018/04/03/attention.html#attention\n",
    "def attention_transf(query, key, value):\n",
    "    \"Compute 'Scaled Dot Product Attention'\"\n",
    "    \n",
    "    # scaling factor for scores\n",
    "    d_k = query.size(-1)\n",
    "    \n",
    "    # matrix multiplication to get every dot product for query and transposed key\n",
    "    scores = torch.matmul(query, key.transpose(-2, -1)) / math.sqrt(d_k)\n",
    "    \n",
    "    # apply softmax of the scores on the last dimensions (= sequence length)\n",
    "    p_attn = F.softmax(scores, dim = -1)\n",
    "    \n",
    "    # matrix multiplication of attention matrix and value matrix to get output based\n",
    "    out = torch.matmul(p_attn, value)\n",
    "    \n",
    "    return out, p_attn"
   ]
  },
  {
   "cell_type": "code",
   "execution_count": 53,
   "metadata": {},
   "outputs": [],
   "source": [
    "# run Y through attention function\n",
    "out, p_attn = attention_transf(Y, Y, Y)"
   ]
  },
  {
   "cell_type": "code",
   "execution_count": 54,
   "metadata": {},
   "outputs": [
    {
     "data": {
      "text/plain": [
       "(torch.Size([3, 5, 7]), torch.Size([3, 5, 5]), torch.Size([3, 5, 7]))"
      ]
     },
     "execution_count": 54,
     "metadata": {},
     "output_type": "execute_result"
    }
   ],
   "source": [
    "# print shapes\n",
    "Y.shape, p_attn.shape, out.shape"
   ]
  },
  {
   "cell_type": "markdown",
   "metadata": {},
   "source": [
    "## Attention shapes step by step"
   ]
  },
  {
   "cell_type": "code",
   "execution_count": 91,
   "metadata": {},
   "outputs": [
    {
     "data": {
      "text/plain": [
       "torch.Size([3, 5, 7])"
      ]
     },
     "execution_count": 91,
     "metadata": {},
     "output_type": "execute_result"
    }
   ],
   "source": [
    "# input dimmension = batch size x sequence length x embedding dimension\n",
    "Y.shape"
   ]
  },
  {
   "cell_type": "code",
   "execution_count": 90,
   "metadata": {},
   "outputs": [
    {
     "data": {
      "text/plain": [
       "torch.Size([3, 7, 5])"
      ]
     },
     "execution_count": 90,
     "metadata": {},
     "output_type": "execute_result"
    }
   ],
   "source": [
    "# transpose the last two dimension to enable matrix multiplication in the next step\n",
    "Y.transpose(-2, -1).shape"
   ]
  },
  {
   "cell_type": "code",
   "execution_count": 92,
   "metadata": {},
   "outputs": [
    {
     "data": {
      "text/plain": [
       "torch.Size([3, 5, 5])"
      ]
     },
     "execution_count": 92,
     "metadata": {},
     "output_type": "execute_result"
    }
   ],
   "source": [
    "# matrix multiplication for attention matrix\n",
    "torch.matmul(Y, Y.transpose(-2, -1)).shape"
   ]
  },
  {
   "cell_type": "code",
   "execution_count": 56,
   "metadata": {},
   "outputs": [
    {
     "data": {
      "text/plain": [
       "torch.Size([3, 5, 7])"
      ]
     },
     "execution_count": 56,
     "metadata": {},
     "output_type": "execute_result"
    }
   ],
   "source": [
    "# matrix multiplication for output\n",
    "torch.matmul(torch.matmul(Y, Y.transpose(-2, -1)), Y).shape"
   ]
  },
  {
   "cell_type": "markdown",
   "metadata": {},
   "source": [
    "### Softmax dimension in attention matrix"
   ]
  },
  {
   "cell_type": "code",
   "execution_count": 57,
   "metadata": {},
   "outputs": [
    {
     "data": {
      "text/plain": [
       "torch.Size([3, 5, 5])"
      ]
     },
     "execution_count": 57,
     "metadata": {},
     "output_type": "execute_result"
    }
   ],
   "source": [
    "# check attention matrix shape\n",
    "p_attn.shape"
   ]
  },
  {
   "cell_type": "code",
   "execution_count": 58,
   "metadata": {},
   "outputs": [
    {
     "data": {
      "text/plain": [
       "tensor([[[0.6017, 0.0839, 0.1114, 0.1045, 0.0984],\n",
       "         [0.0055, 0.8762, 0.0892, 0.0128, 0.0162],\n",
       "         [0.0266, 0.3246, 0.5301, 0.0697, 0.0489],\n",
       "         [0.0542, 0.1010, 0.1512, 0.4624, 0.2312],\n",
       "         [0.0668, 0.1676, 0.1387, 0.3024, 0.3246]],\n",
       "\n",
       "        [[0.2953, 0.1999, 0.0859, 0.2569, 0.1620],\n",
       "         [0.1792, 0.3350, 0.1916, 0.1445, 0.1497],\n",
       "         [0.1008, 0.2510, 0.3771, 0.1121, 0.1589],\n",
       "         [0.2353, 0.1477, 0.0875, 0.3771, 0.1525],\n",
       "         [0.1972, 0.2033, 0.1647, 0.2027, 0.2321]],\n",
       "\n",
       "        [[0.9461, 0.0154, 0.0095, 0.0027, 0.0264],\n",
       "         [0.2080, 0.2863, 0.1079, 0.2363, 0.1616],\n",
       "         [0.0994, 0.0840, 0.4246, 0.0979, 0.2940],\n",
       "         [0.0193, 0.1271, 0.0676, 0.7351, 0.0508],\n",
       "         [0.1804, 0.0820, 0.1914, 0.0479, 0.4983]]])"
      ]
     },
     "execution_count": 58,
     "metadata": {},
     "output_type": "execute_result"
    }
   ],
   "source": [
    "# print attention matrix\n",
    "p_attn"
   ]
  },
  {
   "cell_type": "code",
   "execution_count": 59,
   "metadata": {},
   "outputs": [
    {
     "data": {
      "text/plain": [
       "tensor([0.6017, 0.0839, 0.1114, 0.1045, 0.0984])"
      ]
     },
     "execution_count": 59,
     "metadata": {},
     "output_type": "execute_result"
    }
   ],
   "source": [
    "# print first attention vector = dimension of softmax\n",
    "p_attn[0,0]"
   ]
  },
  {
   "cell_type": "code",
   "execution_count": 64,
   "metadata": {},
   "outputs": [
    {
     "data": {
      "text/plain": [
       "1.0"
      ]
     },
     "execution_count": 64,
     "metadata": {},
     "output_type": "execute_result"
    }
   ],
   "source": [
    "# verify that softmax adds up to 1\n",
    "p_attn[0,0].sum().item()"
   ]
  },
  {
   "cell_type": "code",
   "execution_count": 66,
   "metadata": {},
   "outputs": [
    {
     "data": {
      "text/plain": [
       "tensor([[1.0000, 1.0000, 1.0000, 1.0000, 1.0000],\n",
       "        [1.0000, 1.0000, 1.0000, 1.0000, 1.0000],\n",
       "        [1.0000, 1.0000, 1.0000, 1.0000, 1.0000]])"
      ]
     },
     "execution_count": 66,
     "metadata": {},
     "output_type": "execute_result"
    }
   ],
   "source": [
    "# verify that softmax adds up to 1 for every row in the attention matrix\n",
    "p_attn.sum(dim=2)"
   ]
  },
  {
   "cell_type": "markdown",
   "metadata": {},
   "source": [
    "## Visualization"
   ]
  },
  {
   "cell_type": "code",
   "execution_count": 73,
   "metadata": {},
   "outputs": [
    {
     "data": {
      "image/png": "[encoded data removed]",
      "text/plain": [
       "<Figure size 432x288 with 2 Axes>"
      ]
     },
     "metadata": {
      "needs_background": "light"
     },
     "output_type": "display_data"
    }
   ],
   "source": [
    "# input\n",
    "sns.heatmap(Y[0].numpy(), annot=True, cmap=sns.light_palette('blue', as_cmap=True), linewidths=1).set_title('Input (= query, key, and value)');"
   ]
  },
  {
   "cell_type": "code",
   "execution_count": 74,
   "metadata": {},
   "outputs": [
    {
     "data": {
      "image/png": "[encoded data removed]",
      "text/plain": [
       "<Figure size 432x288 with 2 Axes>"
      ]
     },
     "metadata": {
      "needs_background": "light"
     },
     "output_type": "display_data"
    }
   ],
   "source": [
    "# attention matrix\n",
    "sns.heatmap(p_attn[0].numpy(), annot=True, cmap=sns.light_palette('orange', as_cmap=True), linewidths=1).set_title('Attention matrix');"
   ]
  },
  {
   "cell_type": "code",
   "execution_count": 72,
   "metadata": {},
   "outputs": [
    {
     "data": {
      "image/png": "[encoded data removed]",
      "text/plain": [
       "<Figure size 432x288 with 2 Axes>"
      ]
     },
     "metadata": {
      "needs_background": "light"
     },
     "output_type": "display_data"
    }
   ],
   "source": [
    "# output\n",
    "sns.heatmap(out[0].numpy(), annot=True, cmap=sns.light_palette(\"green\", as_cmap=True), linewidths=1).set_title('Output');"
   ]
  },
  {
   "cell_type": "markdown",
   "metadata": {},
   "source": [
    "Example calculation for the the first element in the output:<br>\n",
    "The dot product of the first row of the attention matrix (p_attn[0,0]) with the first column of the value matrix (Y[0,:,0]).<br>\n",
    "0.6 * 0.39 + 0.084 * -0.19 + 0.11 * -0.2 + 0.1 * 1.3 + 0.098 * 0.14 = 0.34 (0.33976)"
   ]
  },
  {
   "cell_type": "code",
   "execution_count": 90,
   "metadata": {},
   "outputs": [
    {
     "data": {
      "text/plain": [
       "tensor([[0.6017, 0.0839, 0.1114, 0.1045, 0.0984]])"
      ]
     },
     "execution_count": 90,
     "metadata": {},
     "output_type": "execute_result"
    }
   ],
   "source": [
    "p_attn[0,0].view(1,-1)"
   ]
  },
  {
   "cell_type": "code",
   "execution_count": 87,
   "metadata": {},
   "outputs": [
    {
     "data": {
      "text/plain": [
       "tensor([[ 0.3925],\n",
       "        [-0.1888],\n",
       "        [-0.1954],\n",
       "        [ 1.2566],\n",
       "        [ 0.1372]])"
      ]
     },
     "execution_count": 87,
     "metadata": {},
     "output_type": "execute_result"
    }
   ],
   "source": [
    "Y[0,:,0].view(-1,1)"
   ]
  },
  {
   "cell_type": "code",
   "execution_count": 93,
   "metadata": {},
   "outputs": [
    {
     "data": {
      "image/png": "[encoded data removed]",
      "text/plain": [
       "<Figure size 432x288 with 2 Axes>"
      ]
     },
     "metadata": {
      "needs_background": "light"
     },
     "output_type": "display_data"
    }
   ],
   "source": [
    "# attention matrix\n",
    "sns.heatmap(p_attn[0,0].view(1,-1).numpy(), annot=True, cmap=sns.light_palette('orange', as_cmap=True), linewidths=1);"
   ]
  },
  {
   "cell_type": "code",
   "execution_count": 95,
   "metadata": {},
   "outputs": [
    {
     "data": {
      "image/png": "[encoded data removed]",
      "text/plain": [
       "<Figure size 432x288 with 2 Axes>"
      ]
     },
     "metadata": {
      "needs_background": "light"
     },
     "output_type": "display_data"
    }
   ],
   "source": [
    "# input\n",
    "sns.heatmap(Y[0,:,0].view(-1,1).numpy(), annot=True, cmap=sns.light_palette('blue', as_cmap=True), linewidths=1);"
   ]
  },
  {
   "cell_type": "code",
   "execution_count": 98,
   "metadata": {},
   "outputs": [
    {
     "data": {
      "image/png": "[encoded data removed]",
      "text/plain": [
       "<Figure size 432x288 with 2 Axes>"
      ]
     },
     "metadata": {
      "needs_background": "light"
     },
     "output_type": "display_data"
    }
   ],
   "source": [
    "# output\n",
    "sns.heatmap(out[0,0,0].view(1,1).numpy(), annot=True, cmap=sns.light_palette(\"green\", as_cmap=True), linewidths=1);"
   ]
  },
  {
   "cell_type": "code",
   "execution_count": null,
   "metadata": {},
   "outputs": [],
   "source": []
  },
  {
   "cell_type": "code",
   "execution_count": null,
   "metadata": {},
   "outputs": [],
   "source": []
  }
 ],
 "metadata": {
  "kernelspec": {
   "display_name": "Python 3",
   "language": "python",
   "name": "python3"
  },
  "language_info": {
   "codemirror_mode": {
    "name": "ipython",
    "version": 3
   },
   "file_extension": ".py",
   "mimetype": "text/x-python",
   "name": "python",
   "nbconvert_exporter": "python",
   "pygments_lexer": "ipython3",
   "version": "3.6.6"
  }
 },
 "nbformat": 4,
 "nbformat_minor": 2
}
